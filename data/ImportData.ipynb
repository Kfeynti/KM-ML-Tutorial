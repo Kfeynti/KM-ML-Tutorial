{
 "cells": [
  {
   "cell_type": "code",
   "execution_count": 2,
   "metadata": {},
   "outputs": [
    {
     "name": "stdout",
     "output_type": "stream",
     "text": [
      "       age          workclass    education       marital-status  \\\n",
      "0       39          State-gov    Bachelors        Never-married   \n",
      "1       50   Self-emp-not-inc    Bachelors   Married-civ-spouse   \n",
      "2       38            Private      HS-grad             Divorced   \n",
      "3       53            Private         11th   Married-civ-spouse   \n",
      "4       28            Private    Bachelors   Married-civ-spouse   \n",
      "...    ...                ...          ...                  ...   \n",
      "32556   27            Private   Assoc-acdm   Married-civ-spouse   \n",
      "32557   40            Private      HS-grad   Married-civ-spouse   \n",
      "32558   58            Private      HS-grad              Widowed   \n",
      "32559   22            Private      HS-grad        Never-married   \n",
      "32560   52       Self-emp-inc      HS-grad   Married-civ-spouse   \n",
      "\n",
      "               occupation    relationship    race      sex  capital-gain  \\\n",
      "0            Adm-clerical   Not-in-family   White     Male          2174   \n",
      "1         Exec-managerial         Husband   White     Male             0   \n",
      "2       Handlers-cleaners   Not-in-family   White     Male             0   \n",
      "3       Handlers-cleaners         Husband   Black     Male             0   \n",
      "4          Prof-specialty            Wife   Black   Female             0   \n",
      "...                   ...             ...     ...      ...           ...   \n",
      "32556        Tech-support            Wife   White   Female             0   \n",
      "32557   Machine-op-inspct         Husband   White     Male             0   \n",
      "32558        Adm-clerical       Unmarried   White   Female             0   \n",
      "32559        Adm-clerical       Own-child   White     Male             0   \n",
      "32560     Exec-managerial            Wife   White   Female         15024   \n",
      "\n",
      "       capital-loss  hours-per-week  native-country  target  \n",
      "0                 0              40   United-States   <=50K  \n",
      "1                 0              13   United-States   <=50K  \n",
      "2                 0              40   United-States   <=50K  \n",
      "3                 0              40   United-States   <=50K  \n",
      "4                 0              40            Cuba   <=50K  \n",
      "...             ...             ...             ...     ...  \n",
      "32556             0              38   United-States   <=50K  \n",
      "32557             0              40   United-States    >50K  \n",
      "32558             0              40   United-States   <=50K  \n",
      "32559             0              20   United-States   <=50K  \n",
      "32560             0              40   United-States    >50K  \n",
      "\n",
      "[32561 rows x 13 columns]\n"
     ]
    }
   ],
   "source": [
    "import pandas as pd\n",
    "\n",
    "df = pd.read_csv(r\"C:\\Users\\User\\Data_Science_Lecture_notes\\census.csv\") ##read the csv file \n",
    "print (df)"
   ]
  },
  {
   "cell_type": "code",
   "execution_count": null,
   "metadata": {},
   "outputs": [],
   "source": []
  },
  {
   "cell_type": "code",
   "execution_count": 3,
   "metadata": {},
   "outputs": [
    {
     "name": "stdout",
     "output_type": "stream",
     "text": [
      "       age          workclass    race    education\n",
      "0       39          State-gov   White    Bachelors\n",
      "1       50   Self-emp-not-inc   White    Bachelors\n",
      "2       38            Private   White      HS-grad\n",
      "3       53            Private   Black         11th\n",
      "4       28            Private   Black    Bachelors\n",
      "...    ...                ...     ...          ...\n",
      "32556   27            Private   White   Assoc-acdm\n",
      "32557   40            Private   White      HS-grad\n",
      "32558   58            Private   White      HS-grad\n",
      "32559   22            Private   White      HS-grad\n",
      "32560   52       Self-emp-inc   White      HS-grad\n",
      "\n",
      "[32561 rows x 4 columns]\n"
     ]
    }
   ],
   "source": [
    "import pandas as pd\n",
    "data = pd.read_csv(r\"C:\\Users\\User\\Data_Science_Lecture_notes\\census.csv\")#define data\n",
    "df = pd.DataFrame(data, columns= ['age','workclass', 'race', 'education'])\n",
    "print (df)"
   ]
  }
 ],
 "metadata": {
  "interpreter": {
   "hash": "f08154012ddadd8e950e6e9e035c7a7b32c136e7647e9b7c77e02eb723a8bedb"
  },
  "kernelspec": {
   "display_name": "Python 3.9.7 ('base')",
   "language": "python",
   "name": "python3"
  },
  "language_info": {
   "codemirror_mode": {
    "name": "ipython",
    "version": 3
   },
   "file_extension": ".py",
   "mimetype": "text/x-python",
   "name": "python",
   "nbconvert_exporter": "python",
   "pygments_lexer": "ipython3",
   "version": "3.9.7"
  },
  "orig_nbformat": 4
 },
 "nbformat": 4,
 "nbformat_minor": 2
}
